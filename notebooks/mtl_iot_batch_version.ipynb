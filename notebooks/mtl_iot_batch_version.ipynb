{
  "nbformat": 4,
  "nbformat_minor": 0,
  "metadata": {
    "colab": {
      "provenance": []
    },
    "kernelspec": {
      "name": "python3",
      "display_name": "Python 3"
    },
    "language_info": {
      "name": "python"
    }
  },
  "cells": [
    {
      "cell_type": "markdown",
      "source": [
        "## Batch processing of Air Quality Data for Anomaly detection\n",
        "\n",
        "In this notebook, you will learn how you can use Python and popular data stack packages such as `river`, `sklearn` as well as `json`, `pandas` and `numpy`.\n",
        "\n",
        "### About the Data\n",
        "\n",
        "We obtained a sample of the data from the [Purple AIR API](https://community.purpleair.com/t/making-api-calls-with-the-purpleair-api/180)\n",
        "\n",
        "In this notebook you can find code to clean the data, perform missing values imputation, and detect anomalies using River."
      ],
      "metadata": {
        "id": "7p-RpoZqpxYp"
      }
    },
    {
      "cell_type": "code",
      "execution_count": 1,
      "metadata": {
        "colab": {
          "base_uri": "https://localhost:8080/"
        },
        "id": "VkvR8L39udw-",
        "outputId": "ac80e835-5a04-4db0-c708-4c0290b63e38"
      },
      "outputs": [
        {
          "output_type": "stream",
          "name": "stdout",
          "text": [
            "Requirement already satisfied: bytewax==0.19 in /usr/local/lib/python3.10/dist-packages (0.19.0)\n",
            "Requirement already satisfied: python-dotenv in /usr/local/lib/python3.10/dist-packages (1.0.1)\n",
            "Requirement already satisfied: scipy==1.13.0 in /usr/local/lib/python3.10/dist-packages (1.13.0)\n",
            "Requirement already satisfied: kafka-python==2.0.2 in /usr/local/lib/python3.10/dist-packages (2.0.2)\n",
            "Requirement already satisfied: jsonpickle>=3 in /usr/local/lib/python3.10/dist-packages (from bytewax==0.19) (3.0.3)\n",
            "Requirement already satisfied: typing-extensions>=4 in /usr/local/lib/python3.10/dist-packages (from bytewax==0.19) (4.11.0)\n",
            "Requirement already satisfied: prometheus-client>=0.18 in /usr/local/lib/python3.10/dist-packages (from bytewax==0.19) (0.20.0)\n",
            "Requirement already satisfied: numpy<2.3,>=1.22.4 in /usr/local/lib/python3.10/dist-packages (from scipy==1.13.0) (1.25.2)\n",
            "Requirement already satisfied: pandas==2.0.3 in /usr/local/lib/python3.10/dist-packages (2.0.3)\n",
            "Requirement already satisfied: river in /usr/local/lib/python3.10/dist-packages (0.19.0)\n",
            "Requirement already satisfied: python-dateutil>=2.8.2 in /usr/local/lib/python3.10/dist-packages (from pandas==2.0.3) (2.8.2)\n",
            "Requirement already satisfied: pytz>=2020.1 in /usr/local/lib/python3.10/dist-packages (from pandas==2.0.3) (2023.4)\n",
            "Requirement already satisfied: tzdata>=2022.1 in /usr/local/lib/python3.10/dist-packages (from pandas==2.0.3) (2024.1)\n",
            "Requirement already satisfied: numpy>=1.21.0 in /usr/local/lib/python3.10/dist-packages (from pandas==2.0.3) (1.25.2)\n",
            "Requirement already satisfied: scipy>=1.5 in /usr/local/lib/python3.10/dist-packages (from river) (1.13.0)\n",
            "Requirement already satisfied: six>=1.5 in /usr/local/lib/python3.10/dist-packages (from python-dateutil>=2.8.2->pandas==2.0.3) (1.16.0)\n"
          ]
        }
      ],
      "source": [
        "!pip install bytewax==0.19 python-dotenv scipy==1.13.0 kafka-python==2.0.2\n",
        "!pip install pandas==2.0.3 river"
      ]
    },
    {
      "cell_type": "code",
      "source": [
        "!pip install scikit-learn==1.4.2"
      ],
      "metadata": {
        "colab": {
          "base_uri": "https://localhost:8080/"
        },
        "id": "hM6xBX3imdPj",
        "outputId": "35faf855-e640-4f03-fd9b-532e4c483850"
      },
      "execution_count": 2,
      "outputs": [
        {
          "output_type": "stream",
          "name": "stdout",
          "text": [
            "Requirement already satisfied: scikit-learn==1.4.2 in /usr/local/lib/python3.10/dist-packages (1.4.2)\n",
            "Requirement already satisfied: numpy>=1.19.5 in /usr/local/lib/python3.10/dist-packages (from scikit-learn==1.4.2) (1.25.2)\n",
            "Requirement already satisfied: scipy>=1.6.0 in /usr/local/lib/python3.10/dist-packages (from scikit-learn==1.4.2) (1.13.0)\n",
            "Requirement already satisfied: joblib>=1.2.0 in /usr/local/lib/python3.10/dist-packages (from scikit-learn==1.4.2) (1.4.0)\n",
            "Requirement already satisfied: threadpoolctl>=2.0.0 in /usr/local/lib/python3.10/dist-packages (from scikit-learn==1.4.2) (3.4.0)\n"
          ]
        }
      ]
    },
    {
      "cell_type": "code",
      "source": [
        "import requests\n",
        "import json\n",
        "from datetime import datetime, timezone\n",
        "from river import anomaly\n",
        "from sklearn.impute import KNNImputer\n",
        "import pandas as pd\n",
        "import numpy as np\n",
        "\n",
        "def impute_data_with_knn(deserialized_data):\n",
        "    \"\"\"\n",
        "    Takes a list of dictionaries from deserialized data, converts it into a DataFrame,\n",
        "    performs KNN imputation, and converts it back into a list of dictionaries.\n",
        "\n",
        "    Args:\n",
        "    deserialized_data: A list of dictionaries containing sensor data.\n",
        "\n",
        "    Returns:\n",
        "    A list of dictionaries with imputed data.\n",
        "    \"\"\"\n",
        "    # Convert list of dictionaries to DataFrame\n",
        "    df = pd.DataFrame(deserialized_data)\n",
        "\n",
        "    # Ensure all numeric columns are in appropriate data types\n",
        "    for column in df.columns:\n",
        "        if df[column].dtype == 'object':\n",
        "            try:\n",
        "                df[column] = pd.to_numeric(df[column])\n",
        "            except ValueError:\n",
        "                continue  # Keep non-convertible columns as object if needed\n",
        "\n",
        "    # Apply KNN imputer to numeric columns\n",
        "    numeric_columns = df.select_dtypes(include=[np.number]).columns\n",
        "    imputer = KNNImputer(n_neighbors=5, weights='uniform')\n",
        "    imputed_array = imputer.fit_transform(df[numeric_columns])\n",
        "\n",
        "    # Update numeric columns in DataFrame with imputed values\n",
        "    df[numeric_columns] = imputed_array\n",
        "\n",
        "    # Convert DataFrame back to a list of dictionaries\n",
        "    imputed_data = df.to_dict(orient='records')\n",
        "\n",
        "    return imputed_data\n",
        "\n",
        "def serialize(data):\n",
        "    headers = data['fields']\n",
        "    serialized_data = []\n",
        "\n",
        "    for entry in data['data']:\n",
        "        try:\n",
        "            # Create a dictionary for each entry, matching fields with values\n",
        "            entry_data = {headers[i]: entry[i] for i in range(len(headers))}\n",
        "            # Convert the dictionary to a JSON string and then encode it to bytes\n",
        "            entry_bytes = json.dumps(entry_data).encode('utf-8')\n",
        "            serialized_data.append(entry_bytes)\n",
        "        except IndexError:\n",
        "            # This block catches cases where the entry might not have all the fields\n",
        "            print(\"IndexError with entry:\", entry)\n",
        "            continue\n",
        "\n",
        "    return serialized_data\n",
        "\n",
        "\n",
        "def deserialize(byte_objects_list):\n",
        "    results = []  # List to hold the processed sensor data\n",
        "    for byte_object in byte_objects_list:\n",
        "        if byte_object:  # Check if byte_object is not empty\n",
        "            sensor_data = json.loads(byte_object.decode('utf-8'))  # Decode and load JSON from bytes\n",
        "\n",
        "            # Convert \"pm2.5_cf_1\" to a float, check if the value exists and is not None\n",
        "            if 'pm2.5_cf_1' in sensor_data and sensor_data['pm2.5_cf_1'] is not None:\n",
        "                sensor_data['pm2.5_cf_1'] = float(sensor_data['pm2.5_cf_1'])\n",
        "\n",
        "            # Convert \"date_created\" from Unix epoch time to a datetime object, check if the value exists\n",
        "            if 'date_created' in sensor_data and sensor_data['date_created'] is not None:\n",
        "                sensor_data['date_created'] = datetime.fromtimestamp(sensor_data['date_created'], tz=timezone.utc)\n",
        "\n",
        "            results.append(sensor_data)  # Add the processed data to the results list\n",
        "\n",
        "    return results\n",
        "\n",
        "class AnomalyDetector:\n",
        "    def __init__(self, n_trees=10, height=8, window_size=72, seed=11):\n",
        "        self.detector = anomaly.HalfSpaceTrees(\n",
        "            n_trees=n_trees,\n",
        "            height=height,\n",
        "            window_size=window_size,\n",
        "            limits={'x': (0.0, 1200)},  # ensure these limits make sense for your data\n",
        "            seed=seed\n",
        "        )\n",
        "\n",
        "    def update(self, data):\n",
        "        # Check if 'pm1.0_cf_1' is not None and is a floatable type\n",
        "        if data['pm1.0_cf_1'] is not None:\n",
        "            try:\n",
        "                value = float(data['pm1.0_cf_1'])\n",
        "                score = self.detector.score_one({'x': value})\n",
        "                self.detector.learn_one({'x': value})\n",
        "                data['score'] = score\n",
        "            except ValueError:\n",
        "                print(f\"Skipping entry, invalid data for pm1.0_cf_1: {data['pm1.0_cf_1']}\")\n",
        "        else:\n",
        "            print(f\"Skipping entry, missing data for pm1.0_cf_1: {data}\")\n",
        "        return data\n",
        "\n",
        "\n",
        "\n"
      ],
      "metadata": {
        "id": "Ij5D2i-RwziJ"
      },
      "execution_count": 10,
      "outputs": []
    },
    {
      "cell_type": "code",
      "source": [
        "\n",
        "# Opening JSON file\n",
        "f = open('data.json')\n",
        "\n",
        "# returns JSON object as\n",
        "# a dictionary\n",
        "data = json.load(f)"
      ],
      "metadata": {
        "id": "BjZIHP06n6k3"
      },
      "execution_count": 5,
      "outputs": []
    },
    {
      "cell_type": "code",
      "source": [
        "len(data['data'])"
      ],
      "metadata": {
        "colab": {
          "base_uri": "https://localhost:8080/"
        },
        "id": "1SDjkH9UoSSl",
        "outputId": "71d2c0b1-c371-47bc-f13c-d5c54cf1ced4"
      },
      "execution_count": 3,
      "outputs": [
        {
          "output_type": "execute_result",
          "data": {
            "text/plain": [
              "25552"
            ]
          },
          "metadata": {},
          "execution_count": 3
        }
      ]
    },
    {
      "cell_type": "code",
      "source": [
        "# Begin data processing\n",
        "# Serialize the data to bytes\n",
        "serialized_entries = serialize(data)\n",
        "# Deserialize the data and transform epoch\n",
        "deserialized_data = deserialize(serialized_entries)\n"
      ],
      "metadata": {
        "id": "kNgWXpSAzHji"
      },
      "execution_count": 6,
      "outputs": []
    },
    {
      "cell_type": "code",
      "source": [
        "# Perform KNN imputation on deserialized data\n",
        "imputed_data = impute_data_with_knn(deserialized_data)\n"
      ],
      "metadata": {
        "id": "9j-wkZ4ioMef"
      },
      "execution_count": 11,
      "outputs": []
    },
    {
      "cell_type": "markdown",
      "source": [
        "We can identify outliers after applying the model as seen below."
      ],
      "metadata": {
        "id": "qCWyRpl8xQGT"
      }
    },
    {
      "cell_type": "code",
      "source": [
        "anomaly_detector = AnomalyDetector(n_trees=4, height=3, window_size=50, seed=11)\n",
        "\n",
        "# Iterate over each deserialized data entry\n",
        "for entry in imputed_data:\n",
        "    updated_entry = anomaly_detector.update(entry)\n",
        "    if updated_entry['score']>0.7:\n",
        "      print(updated_entry)\n"
      ],
      "metadata": {
        "colab": {
          "base_uri": "https://localhost:8080/"
        },
        "id": "y01BBE2XyhGH",
        "outputId": "77e66127-4adb-4015-8862-0213fd8bd876"
      },
      "execution_count": 18,
      "outputs": [
        {
          "output_type": "stream",
          "name": "stdout",
          "text": [
            "{'sensor_index': 1970.0, 'date_created': Timestamp('2017-07-11 18:58:30+0000', tz='UTC'), 'rssi': -76.0, 'uptime': 17419.0, 'latitude': 33.99827, 'longitude': -118.437546, 'humidity': 34.0, 'temperature': 86.0, 'pressure': 1013.58, 'pm1.0': 2759.8, 'pm2.5_alt': 0.0, 'pm10.0': 2759.8, 'pm1.0_cf_1': 4139.3, 'pm2.5_atm': 2759.8, 'pm2.5_cf_1': 4139.3, 'pm10.0_cf_1': 4139.3, 'score': 0.9333333333333333}\n",
            "{'sensor_index': 13907.0, 'date_created': Timestamp('2018-08-01 20:40:19+0000', tz='UTC'), 'rssi': -79.0, 'uptime': 26054.0, 'latitude': 37.85105, 'longitude': -122.27175, 'humidity': 27.0, 'temperature': 92.0, 'pressure': 1013.48, 'pm1.0': 3330.9, 'pm2.5_alt': 0.0, 'pm10.0': 3330.9, 'pm1.0_cf_1': 4997.0, 'pm2.5_atm': 3330.9, 'pm2.5_cf_1': 4997.0, 'pm10.0_cf_1': 4997.0, 'score': 0.9333333333333333}\n",
            "{'sensor_index': 20423.0, 'date_created': Timestamp('2018-11-30 14:17:23+0000', tz='UTC'), 'rssi': -48.0, 'uptime': 3630.0, 'latitude': 37.826344, 'longitude': -120.732544, 'humidity': 31.0, 'temperature': 89.0, 'pressure': 1002.57, 'pm1.0': 3306.3, 'pm2.5_alt': 0.5, 'pm10.0': 3306.3, 'pm1.0_cf_1': 4960.4, 'pm2.5_atm': 3306.3, 'pm2.5_cf_1': 4960.4, 'pm10.0_cf_1': 4960.4, 'score': 0.9333333333333333}\n",
            "{'sensor_index': 28323.0, 'date_created': Timestamp('2019-03-07 23:56:47+0000', tz='UTC'), 'rssi': -62.0, 'uptime': 40851.0, 'latitude': 40.679787, 'longitude': -111.78401, 'humidity': 19.0, 'temperature': 66.0, 'pressure': 843.59, 'pm1.0': 3334.2, 'pm2.5_alt': 2.7, 'pm10.0': 3334.2, 'pm1.0_cf_1': 5002.4, 'pm2.5_atm': 3334.2, 'pm2.5_cf_1': 5002.4, 'pm10.0_cf_1': 5002.4, 'score': 0.9333333333333333}\n",
            "{'sensor_index': 46773.0, 'date_created': Timestamp('2020-01-23 22:32:31+0000', tz='UTC'), 'rssi': -63.0, 'uptime': 27557.0, 'latitude': 40.67895, 'longitude': -112.03383, 'humidity': 16.0, 'temperature': 64.0, 'pressure': 867.23, 'pm1.0': 3331.6, 'pm2.5_alt': 5.3, 'pm10.0': 3331.6, 'pm1.0_cf_1': 4997.8, 'pm2.5_atm': 3331.6, 'pm2.5_cf_1': 4997.8, 'pm10.0_cf_1': 4997.8, 'score': 0.9333333333333333}\n",
            "{'sensor_index': 73765.0, 'date_created': Timestamp('2020-09-29 15:21:08+0000', tz='UTC'), 'rssi': -70.0, 'uptime': 8422.0, 'latitude': 37.757835, 'longitude': -122.438156, 'humidity': 35.0, 'temperature': 77.0, 'pressure': 1009.98, 'pm1.0': 4999.8, 'pm2.5_alt': 95.5, 'pm10.0': 4999.8, 'pm1.0_cf_1': 4999.8, 'pm2.5_atm': 3332.8, 'pm2.5_cf_1': 4999.8, 'pm10.0_cf_1': 4999.8, 'score': 0.9333333333333333}\n",
            "{'sensor_index': 75807.0, 'date_created': Timestamp('2020-10-01 18:32:54+0000', tz='UTC'), 'rssi': -48.0, 'uptime': 23331.0, 'latitude': 47.6061, 'longitude': -122.305954, 'humidity': 21.0, 'temperature': 89.0, 'pressure': 1014.34, 'pm1.0': 4996.8, 'pm2.5_alt': 212.5, 'pm10.0': 4996.8, 'pm1.0_cf_1': 4996.8, 'pm2.5_atm': 3330.6, 'pm2.5_cf_1': 4996.8, 'pm10.0_cf_1': 4996.8, 'score': 0.9333333333333333}\n",
            "{'sensor_index': 84953.0, 'date_created': Timestamp('2020-10-23 16:14:40+0000', tz='UTC'), 'rssi': -64.0, 'uptime': 26146.0, 'latitude': 37.82678, 'longitude': -121.942215, 'humidity': 52.0, 'temperature': 57.0, 'pressure': 983.64, 'pm1.0': 3331.5, 'pm2.5_alt': 50.4, 'pm10.0': 3331.5, 'pm1.0_cf_1': 4997.8, 'pm2.5_atm': 3331.5, 'pm2.5_cf_1': 4997.8, 'pm10.0_cf_1': 4997.8, 'score': 0.9333333333333333}\n",
            "{'sensor_index': 100685.0, 'date_created': Timestamp('2021-03-02 22:09:57+0000', tz='UTC'), 'rssi': -49.0, 'uptime': 21721.0, 'latitude': 38.553364, 'longitude': -121.782074, 'humidity': 31.0, 'temperature': 84.0, 'pressure': 1014.82, 'pm1.0': 4998.4, 'pm2.5_alt': 11.7, 'pm10.0': 4998.4, 'pm1.0_cf_1': 4998.4, 'pm2.5_atm': 3332.0, 'pm2.5_cf_1': 4998.4, 'pm10.0_cf_1': 4998.4, 'score': 0.9333333333333333}\n",
            "{'sensor_index': 103960.0, 'date_created': Timestamp('2021-04-12 22:14:39+0000', tz='UTC'), 'rssi': -63.0, 'uptime': 16266.0, 'latitude': 33.692684, 'longitude': -117.62087, 'humidity': 34.0, 'temperature': 77.8, 'pressure': 1015.6, 'pm1.0': 3247.2, 'pm2.5_alt': 0.6, 'pm10.0': 3247.2, 'pm1.0_cf_1': 4871.1, 'pm2.5_atm': 3247.2, 'pm2.5_cf_1': 4871.1, 'pm10.0_cf_1': 4871.1, 'score': 0.9333333333333333}\n",
            "{'sensor_index': 110434.0, 'date_created': Timestamp('2021-06-23 22:10:56+0000', tz='UTC'), 'rssi': -57.0, 'uptime': 45850.0, 'latitude': 45.706398, 'longitude': -121.51236, 'humidity': 54.0, 'temperature': 71.0, 'pressure': 670.52, 'pm1.0': 3332.7, 'pm2.5_alt': 0.0, 'pm10.0': 3332.7, 'pm1.0_cf_1': 4999.6, 'pm2.5_atm': 3332.7, 'pm2.5_cf_1': 4999.6, 'pm10.0_cf_1': 4999.6, 'score': 0.9326666666666666}\n",
            "{'sensor_index': 112244.0, 'date_created': Timestamp('2021-07-02 22:09:12+0000', tz='UTC'), 'rssi': -63.0, 'uptime': 11283.0, 'latitude': 37.56378, 'longitude': -122.3014, 'humidity': 30.0, 'temperature': 86.0, 'pressure': 1018.44, 'pm1.0': 3328.9, 'pm2.5_alt': 0.2, 'pm10.0': 3328.9, 'pm1.0_cf_1': 4994.3, 'pm2.5_atm': 3328.9, 'pm2.5_cf_1': 4994.3, 'pm10.0_cf_1': 4994.3, 'score': 0.9333333333333333}\n",
            "{'sensor_index': 113010.0, 'date_created': Timestamp('2021-07-07 21:11:50+0000', tz='UTC'), 'rssi': -50.0, 'uptime': 36579.0, 'latitude': 44.4200594, 'longitude': -119.435122, 'humidity': 13.0, 'temperature': 86.0, 'pressure': 986.15, 'pm1.0': 3325.2, 'pm2.5_alt': 20.3, 'pm10.0': 3325.2, 'pm1.0_cf_1': 4988.8, 'pm2.5_atm': 3325.2, 'pm2.5_cf_1': 4988.8, 'pm10.0_cf_1': 4988.8, 'score': 0.9333333333333333}\n",
            "{'sensor_index': 113708.0, 'date_created': Timestamp('2021-07-09 22:44:50+0000', tz='UTC'), 'rssi': -62.0, 'uptime': 5838.0, 'latitude': 33.259953, 'longitude': -97.25729, 'humidity': 50.0, 'temperature': 63.0, 'pressure': 984.35, 'pm1.0': 2979.2, 'pm2.5_alt': 0.4, 'pm10.0': 2979.2, 'pm1.0_cf_1': 4469.9, 'pm2.5_atm': 2979.2, 'pm2.5_cf_1': 4469.9, 'pm10.0_cf_1': 4469.9, 'score': 0.9333333333333333}\n",
            "{'sensor_index': 113726.0, 'date_created': Timestamp('2021-07-12 16:22:40+0000', tz='UTC'), 'rssi': -46.0, 'uptime': 28511.0, 'latitude': 48.365646, 'longitude': -119.72242, 'humidity': 24.0, 'temperature': 64.0, 'pressure': 935.95, 'pm1.0': 3328.8, 'pm2.5_alt': 0.0, 'pm10.0': 3328.8, 'pm1.0_cf_1': 4994.0, 'pm2.5_atm': 3328.8, 'pm2.5_cf_1': 4994.0, 'pm10.0_cf_1': 4994.0, 'score': 0.9333333333333333}\n",
            "{'sensor_index': 115051.0, 'date_created': Timestamp('2021-07-19 22:26:29+0000', tz='UTC'), 'rssi': -91.0, 'uptime': 1664.0, 'latitude': 38.142834, 'longitude': -122.51846, 'humidity': 25.0, 'temperature': 93.0, 'pressure': 1018.59, 'pm1.0': 3329.8, 'pm2.5_alt': 0.4, 'pm10.0': 3329.8, 'pm1.0_cf_1': 4995.7, 'pm2.5_atm': 3329.8, 'pm2.5_cf_1': 4995.7, 'pm10.0_cf_1': 4995.7, 'score': 0.9333333333333333}\n",
            "{'sensor_index': 119547.0, 'date_created': Timestamp('2021-08-11 18:00:15+0000', tz='UTC'), 'rssi': -83.0, 'uptime': 68963.0, 'latitude': 39.951813, 'longitude': -105.04389, 'humidity': 36.0, 'temperature': 60.0, 'pressure': 839.91, 'pm1.0': 2589.0, 'pm2.5_alt': 0.3, 'pm10.0': 2589.0, 'pm1.0_cf_1': 3884.4, 'pm2.5_atm': 2589.0, 'pm2.5_cf_1': 3884.4, 'pm10.0_cf_1': 3884.4, 'score': 0.9333333333333333}\n",
            "{'sensor_index': 120419.0, 'date_created': Timestamp('2021-08-13 21:49:18+0000', tz='UTC'), 'rssi': -79.0, 'uptime': 31923.0, 'latitude': 40.75687, 'longitude': -111.8557, 'humidity': 15.0, 'temperature': 75.0, 'pressure': 866.84, 'pm1.0': 3328.8, 'pm2.5_alt': 0.2, 'pm10.0': 3328.8, 'pm1.0_cf_1': 4994.3, 'pm2.5_atm': 3328.8, 'pm2.5_cf_1': 4994.3, 'pm10.0_cf_1': 4994.3, 'score': 0.9333333333333333}\n",
            "{'sensor_index': 121505.0, 'date_created': Timestamp('2021-08-18 23:18:34+0000', tz='UTC'), 'rssi': -95.0, 'uptime': 302.0, 'latitude': 36.98097, 'longitude': -119.5031, 'humidity': 29.0, 'temperature': 88.0, 'pressure': 983.32, 'pm1.0': 3328.5, 'pm2.5_alt': 1.3, 'pm10.0': 3328.5, 'pm1.0_cf_1': 4993.8, 'pm2.5_atm': 3328.5, 'pm2.5_cf_1': 4993.8, 'pm10.0_cf_1': 4993.8, 'score': 0.9333333333333333}\n",
            "{'sensor_index': 121977.0, 'date_created': Timestamp('2021-08-20 21:07:06+0000', tz='UTC'), 'rssi': -67.0, 'uptime': 612.0, 'latitude': 36.612835, 'longitude': -94.18384, 'humidity': 100.0, 'temperature': 57.0, 'pressure': 971.85, 'pm1.0': 3330.5, 'pm2.5_alt': 44.2, 'pm10.0': 3330.5, 'pm1.0_cf_1': 4996.7, 'pm2.5_atm': 3330.5, 'pm2.5_cf_1': 4996.7, 'pm10.0_cf_1': 4996.7, 'score': 0.9306666666666666}\n",
            "{'sensor_index': 122071.0, 'date_created': Timestamp('2021-08-20 22:04:23+0000', tz='UTC'), 'rssi': -59.0, 'uptime': 4334.0, 'latitude': 40.04964, 'longitude': -105.19616, 'humidity': 31.0, 'temperature': 62.0, 'pressure': 845.57, 'pm1.0': 3324.9, 'pm2.5_alt': 0.1, 'pm10.0': 3324.9, 'pm1.0_cf_1': 4988.5, 'pm2.5_atm': 3324.9, 'pm2.5_cf_1': 4988.5, 'pm10.0_cf_1': 4988.5, 'score': 0.9306666666666666}\n",
            "{'sensor_index': 122719.0, 'date_created': Timestamp('2021-08-24 22:04:21+0000', tz='UTC'), 'rssi': -48.0, 'uptime': 6212.0, 'latitude': 37.874813, 'longitude': -122.276306, 'humidity': 35.0, 'temperature': 84.0, 'pressure': 1012.7, 'pm1.0': 5001.8, 'pm2.5_alt': 6.0, 'pm10.0': 5001.8, 'pm1.0_cf_1': 5001.8, 'pm2.5_atm': 3334.1, 'pm2.5_cf_1': 5001.8, 'pm10.0_cf_1': 5001.8, 'score': 0.9333333333333333}\n",
            "{'sensor_index': 123409.0, 'date_created': Timestamp('2021-08-26 21:28:53+0000', tz='UTC'), 'rssi': -62.0, 'uptime': 5946.0, 'latitude': 32.686947, 'longitude': -96.73787, 'humidity': 68.0, 'temperature': 65.0, 'pressure': 993.79, 'pm1.0': 3327.8, 'pm2.5_alt': 1.1, 'pm10.0': 3327.8, 'pm1.0_cf_1': 4992.7, 'pm2.5_atm': 3327.8, 'pm2.5_cf_1': 4992.7, 'pm10.0_cf_1': 4992.7, 'score': 0.9333333333333333}\n",
            "{'sensor_index': 123841.0, 'date_created': Timestamp('2021-08-27 20:28:06+0000', tz='UTC'), 'rssi': -64.0, 'uptime': 33502.0, 'latitude': 38.350643, 'longitude': -121.37064, 'humidity': 22.0, 'temperature': 98.0, 'pressure': 1016.38, 'pm1.0': 3318.5, 'pm2.5_alt': 1.0, 'pm10.0': 3318.5, 'pm1.0_cf_1': 4978.9, 'pm2.5_atm': 3318.5, 'pm2.5_cf_1': 4978.9, 'pm10.0_cf_1': 4978.9, 'score': 0.9306666666666666}\n",
            "{'sensor_index': 123855.0, 'date_created': Timestamp('2021-08-27 20:29:05+0000', tz='UTC'), 'rssi': -85.0, 'uptime': 52501.0, 'latitude': 36.35473, 'longitude': -119.6543, 'humidity': 15.0, 'temperature': 104.0, 'pressure': 1008.25, 'pm1.0': 3225.3, 'pm2.5_alt': 2.0, 'pm10.0': 3225.3, 'pm1.0_cf_1': 4838.6, 'pm2.5_atm': 3225.3, 'pm2.5_cf_1': 4838.6, 'pm10.0_cf_1': 4838.6, 'score': 0.9306666666666666}\n",
            "{'sensor_index': 127681.0, 'date_created': Timestamp('2021-09-15 19:07:02+0000', tz='UTC'), 'rssi': -75.0, 'uptime': 31100.0, 'latitude': 50.663483, 'longitude': -120.32021, 'humidity': 19.0, 'temperature': 71.0, 'pressure': 969.47, 'pm1.0': 3325.9, 'pm2.5_alt': 0.0, 'pm10.0': 3325.9, 'pm1.0_cf_1': 4989.8, 'pm2.5_atm': 3325.9, 'pm2.5_cf_1': 4989.8, 'pm10.0_cf_1': 4989.8, 'score': 0.9333333333333333}\n",
            "{'sensor_index': 127719.0, 'date_created': Timestamp('2021-09-15 19:08:50+0000', tz='UTC'), 'rssi': -72.0, 'uptime': 32882.0, 'latitude': 19.326153, 'longitude': -99.17612, 'humidity': 13.0, 'temperature': 92.0, 'pressure': 778.61, 'pm1.0': 3303.1, 'pm2.5_alt': 20.6, 'pm10.0': 3303.1, 'pm1.0_cf_1': 4955.7, 'pm2.5_atm': 3303.1, 'pm2.5_cf_1': 4955.7, 'pm10.0_cf_1': 4955.7, 'score': 0.9333333333333333}\n",
            "{'sensor_index': 128161.0, 'date_created': Timestamp('2021-09-16 22:29:56+0000', tz='UTC'), 'rssi': -59.0, 'uptime': 30406.0, 'latitude': 34.210747, 'longitude': -116.52745, 'humidity': 20.6, 'temperature': 83.6, 'pressure': 927.808, 'pm1.0': 3293.0, 'pm2.5_alt': 0.2, 'pm10.0': 3293.0, 'pm1.0_cf_1': 4940.4, 'pm2.5_atm': 3293.0, 'pm2.5_cf_1': 4940.4, 'pm10.0_cf_1': 4940.4, 'score': 0.928}\n",
            "{'sensor_index': 128637.0, 'date_created': Timestamp('2021-09-20 20:53:24+0000', tz='UTC'), 'rssi': -68.0, 'uptime': 18919.0, 'latitude': -10.569345, 'longitude': -63.619106, 'humidity': 65.0, 'temperature': 88.0, 'pressure': 985.7, 'pm1.0': 3315.4, 'pm2.5_alt': 11.2, 'pm10.0': 3315.4, 'pm1.0_cf_1': 4973.7, 'pm2.5_atm': 3315.4, 'pm2.5_cf_1': 4973.7, 'pm10.0_cf_1': 4973.7, 'score': 0.9306666666666666}\n",
            "{'sensor_index': 128989.0, 'date_created': Timestamp('2021-09-21 20:15:09+0000', tz='UTC'), 'rssi': -65.0, 'uptime': 264.0, 'latitude': -12.51475, 'longitude': -53.00414, 'humidity': 68.0, 'temperature': 88.0, 'pressure': 975.03, 'pm1.0': 3329.4, 'pm2.5_alt': 4.7, 'pm10.0': 3329.4, 'pm1.0_cf_1': 4994.8, 'pm2.5_atm': 3329.4, 'pm2.5_cf_1': 4994.8, 'pm10.0_cf_1': 4994.8, 'score': 0.9306666666666666}\n",
            "{'sensor_index': 129007.0, 'date_created': Timestamp('2021-09-21 20:16:40+0000', tz='UTC'), 'rssi': -80.0, 'uptime': 254.0, 'latitude': -17.33855, 'longitude': -56.76984, 'humidity': 60.0, 'temperature': 89.0, 'pressure': 997.36, 'pm1.0': 3319.4, 'pm2.5_alt': 0.3, 'pm10.0': 3319.4, 'pm1.0_cf_1': 4980.0, 'pm2.5_atm': 3319.4, 'pm2.5_cf_1': 4980.0, 'pm10.0_cf_1': 4980.0, 'score': 0.9306666666666666}\n",
            "{'sensor_index': 129143.0, 'date_created': Timestamp('2021-09-21 21:34:20+0000', tz='UTC'), 'rssi': -88.0, 'uptime': 292.0, 'latitude': 14.887944, 'longitude': -24.484806, 'humidity': 38.8, 'temperature': 94.0, 'pressure': 963.124, 'pm1.0': 2588.3, 'pm2.5_alt': 0.6, 'pm10.0': 2588.3, 'pm1.0_cf_1': 3883.3, 'pm2.5_atm': 2588.3, 'pm2.5_cf_1': 3883.3, 'pm10.0_cf_1': 3883.3, 'score': 0.928}\n",
            "{'sensor_index': 129689.0, 'date_created': Timestamp('2021-09-22 22:50:06+0000', tz='UTC'), 'rssi': -73.0, 'uptime': 12499.0, 'latitude': 40.77824, 'longitude': -111.87601, 'humidity': 20.0, 'temperature': 68.0, 'pressure': 865.19, 'pm1.0': 3327.2, 'pm2.5_alt': 0.2, 'pm10.0': 3327.2, 'pm1.0_cf_1': 4991.9, 'pm2.5_atm': 3327.2, 'pm2.5_cf_1': 4991.9, 'pm10.0_cf_1': 4991.9, 'score': 0.9306666666666666}\n",
            "{'sensor_index': 131199.0, 'date_created': Timestamp('2021-09-30 20:43:21+0000', tz='UTC'), 'rssi': -41.0, 'uptime': 446.0, 'latitude': 23.733871, 'longitude': 90.38815, 'humidity': 49.0, 'temperature': 92.0, 'pressure': 1010.52, 'pm1.0': 2511.7, 'pm2.5_alt': 23.2, 'pm10.0': 2521.3, 'pm1.0_cf_1': 2511.7, 'pm2.5_atm': 1683.7, 'pm2.5_cf_1': 2519.3, 'pm10.0_cf_1': 2521.3, 'score': 0.9333333333333333}\n",
            "{'sensor_index': 131417.0, 'date_created': Timestamp('2021-10-04 21:51:41+0000', tz='UTC'), 'rssi': -70.0, 'uptime': 6837.0, 'latitude': 23.752289, 'longitude': 90.375374, 'humidity': 50.0, 'temperature': 91.0, 'pressure': 1008.96, 'pm1.0': 3269.3, 'pm2.5_alt': 33.5, 'pm10.0': 3269.3, 'pm1.0_cf_1': 4905.0, 'pm2.5_atm': 3269.3, 'pm2.5_cf_1': 4905.0, 'pm10.0_cf_1': 4905.0, 'score': 0.9333333333333333}\n",
            "{'sensor_index': 131443.0, 'date_created': Timestamp('2021-10-04 21:57:25+0000', tz='UTC'), 'rssi': -67.0, 'uptime': 6838.0, 'latitude': 23.753384, 'longitude': 90.37465, 'humidity': 60.0, 'temperature': 91.0, 'pressure': 1009.83, 'pm1.0': 4875.3, 'pm2.5_alt': 36.8, 'pm10.0': 4875.3, 'pm1.0_cf_1': 4875.3, 'pm2.5_atm': 3249.6, 'pm2.5_cf_1': 4875.3, 'pm10.0_cf_1': 4875.3, 'score': 0.9333333333333333}\n",
            "{'sensor_index': 131453.0, 'date_created': Timestamp('2021-10-04 22:01:11+0000', tz='UTC'), 'rssi': -39.0, 'uptime': 6955.0, 'latitude': 23.72201, 'longitude': 90.4006, 'humidity': 46.0, 'temperature': 92.0, 'pressure': 1009.88, 'pm1.0': 4995.5, 'pm2.5_alt': 57.7, 'pm10.0': 4995.5, 'pm1.0_cf_1': 4995.5, 'pm2.5_atm': 3329.8, 'pm2.5_cf_1': 4995.5, 'pm10.0_cf_1': 4995.5, 'score': 0.9333333333333333}\n",
            "{'sensor_index': 131903.0, 'date_created': Timestamp('2021-10-07 22:17:36+0000', tz='UTC'), 'rssi': -79.0, 'uptime': 2820.0, 'latitude': 31.785929, 'longitude': -106.359764, 'humidity': 6.0, 'temperature': 105.0, 'pressure': 879.4, 'pm1.0': 3211.8, 'pm2.5_alt': 0.9, 'pm10.0': 3211.8, 'pm1.0_cf_1': 4818.5, 'pm2.5_atm': 3211.8, 'pm2.5_cf_1': 4818.5, 'pm10.0_cf_1': 4818.5, 'score': 0.9226666666666666}\n",
            "{'sensor_index': 132041.0, 'date_created': Timestamp('2021-10-08 22:43:47+0000', tz='UTC'), 'rssi': -51.0, 'uptime': 10541.0, 'latitude': -38.60274, 'longitude': -72.84902, 'humidity': 50.0, 'temperature': 66.0, 'pressure': 1009.2, 'pm1.0': 1735.2, 'pm2.5_alt': 92.0, 'pm10.0': 1781.1, 'pm1.0_cf_1': 2603.8, 'pm2.5_atm': 1775.6, 'pm2.5_cf_1': 2664.3, 'pm10.0_cf_1': 2672.5, 'score': 0.9306666666666666}\n",
            "{'sensor_index': 132661.0, 'date_created': Timestamp('2021-10-13 17:06:25+0000', tz='UTC'), 'rssi': -72.0, 'uptime': 1010.0, 'latitude': 25.317438, 'longitude': -100.04217, 'humidity': 11.0, 'temperature': 96.0, 'pressure': 953.31, 'pm1.0': 3246.3, 'pm2.5_alt': 0.4, 'pm10.0': 3246.3, 'pm1.0_cf_1': 4870.0, 'pm2.5_atm': 3246.3, 'pm2.5_cf_1': 4870.0, 'pm10.0_cf_1': 4870.0, 'score': 0.9306666666666666}\n",
            "{'sensor_index': 132699.0, 'date_created': Timestamp('2021-10-13 17:10:18+0000', tz='UTC'), 'rssi': -70.0, 'uptime': 14415.0, 'latitude': 49.87038, 'longitude': -111.37885, 'humidity': 21.0, 'temperature': 57.0, 'pressure': 929.94, 'pm1.0': 3325.6, 'pm2.5_alt': 0.4, 'pm10.0': 3325.6, 'pm1.0_cf_1': 4989.5, 'pm2.5_atm': 3325.6, 'pm2.5_cf_1': 4989.5, 'pm10.0_cf_1': 4989.5, 'score': 0.9306666666666666}\n",
            "{'sensor_index': 132707.0, 'date_created': Timestamp('2021-10-13 17:10:25+0000', tz='UTC'), 'rssi': -79.0, 'uptime': 1494.0, 'latitude': 39.331783, 'longitude': -77.707596, 'humidity': 40.0, 'temperature': 78.0, 'pressure': 996.89, 'pm1.0': 3329.5, 'pm2.5_alt': 0.0, 'pm10.0': 3329.5, 'pm1.0_cf_1': 4995.1, 'pm2.5_atm': 3329.5, 'pm2.5_cf_1': 4995.1, 'pm10.0_cf_1': 4995.1, 'score': 0.9306666666666666}\n",
            "{'sensor_index': 133197.0, 'date_created': Timestamp('2021-10-15 21:12:10+0000', tz='UTC'), 'rssi': -65.0, 'uptime': 478.0, 'latitude': 39.97979, 'longitude': -105.15101, 'humidity': 30.0, 'temperature': 53.0, 'pressure': 829.43, 'pm1.0': 3213.5, 'pm2.5_alt': 0.0, 'pm10.0': 3213.5, 'pm1.0_cf_1': 4820.9, 'pm2.5_atm': 3213.5, 'pm2.5_cf_1': 4820.9, 'pm10.0_cf_1': 4820.9, 'score': 0.9333333333333333}\n",
            "{'sensor_index': 133612.0, 'date_created': Timestamp('2021-10-19 20:04:05+0000', tz='UTC'), 'rssi': -83.0, 'uptime': 2072.0, 'latitude': 45.294514, 'longitude': 11.816638, 'humidity': 49.0, 'temperature': 64.0, 'pressure': 1023.54, 'pm1.0': 3328.2, 'pm2.5_alt': 0.0, 'pm10.0': 3328.2, 'pm1.0_cf_1': 4993.5, 'pm2.5_atm': 3328.2, 'pm2.5_cf_1': 4993.5, 'pm10.0_cf_1': 4993.5, 'score': 0.9306666666666666}\n",
            "{'sensor_index': 134030.0, 'date_created': Timestamp('2021-10-20 19:31:01+0000', tz='UTC'), 'rssi': -80.0, 'uptime': 63159.0, 'latitude': 37.914703, 'longitude': -122.03422, 'humidity': 24.0, 'temperature': 87.0, 'pressure': 1013.1, 'pm1.0': 3328.5, 'pm2.5_alt': 0.0, 'pm10.0': 3328.5, 'pm1.0_cf_1': 4993.7, 'pm2.5_atm': 3328.5, 'pm2.5_cf_1': 4993.7, 'pm10.0_cf_1': 4993.7, 'score': 0.9306666666666666}\n",
            "{'sensor_index': 136314.0, 'date_created': Timestamp('2021-11-04 20:40:07+0000', tz='UTC'), 'rssi': -56.0, 'uptime': 69766.0, 'latitude': 39.132004, 'longitude': -100.854576, 'humidity': 14.0, 'temperature': 78.0, 'pressure': 908.17, 'pm1.0': 3327.4, 'pm2.5_alt': 0.0, 'pm10.0': 3327.4, 'pm1.0_cf_1': 4992.3, 'pm2.5_atm': 3327.4, 'pm2.5_cf_1': 4992.3, 'pm10.0_cf_1': 4992.3, 'score': 0.9333333333333333}\n",
            "{'sensor_index': 136514.0, 'date_created': Timestamp('2021-11-05 20:15:22+0000', tz='UTC'), 'rssi': -59.0, 'uptime': 37291.0, 'latitude': 39.970623, 'longitude': -105.14934, 'humidity': 24.0, 'temperature': 68.0, 'pressure': 837.51, 'pm1.0': 3325.8, 'pm2.5_alt': 0.0, 'pm10.0': 3325.8, 'pm1.0_cf_1': 4989.9, 'pm2.5_atm': 3325.8, 'pm2.5_cf_1': 4989.9, 'pm10.0_cf_1': 4989.9, 'score': 0.9306666666666666}\n",
            "{'sensor_index': 136578.0, 'date_created': Timestamp('2021-11-05 20:31:36+0000', tz='UTC'), 'rssi': -95.0, 'uptime': 922.0, 'latitude': 27.312674, 'longitude': 88.360916, 'humidity': 84.0, 'temperature': 58.0, 'pressure': 798.26, 'pm1.0': 1683.6, 'pm2.5_alt': 57.6, 'pm10.0': 1701.5, 'pm1.0_cf_1': 2525.8, 'pm2.5_atm': 1697.5, 'pm2.5_cf_1': 2546.6, 'pm10.0_cf_1': 2551.5, 'score': 0.9306666666666666}\n",
            "{'sensor_index': 137104.0, 'date_created': Timestamp('2021-11-09 21:30:30+0000', tz='UTC'), 'rssi': -49.0, 'uptime': 10631.0, 'latitude': 39.479397, 'longitude': -76.70638, 'humidity': 40.0, 'temperature': 79.0, 'pressure': 992.19, 'pm1.0': 3328.6, 'pm2.5_alt': 1.1, 'pm10.0': 3328.6, 'pm1.0_cf_1': 4994.0, 'pm2.5_atm': 3328.6, 'pm2.5_cf_1': 4994.0, 'pm10.0_cf_1': 4994.0, 'score': 0.9306666666666666}\n",
            "{'sensor_index': 137726.0, 'date_created': Timestamp('2021-11-15 21:39:27+0000', tz='UTC'), 'rssi': -62.0, 'uptime': 10607.0, 'latitude': 31.74938, 'longitude': -106.43989, 'humidity': 7.0, 'temperature': 87.0, 'pressure': 887.12, 'pm1.0': 3328.1, 'pm2.5_alt': 0.4, 'pm10.0': 3328.1, 'pm1.0_cf_1': 4993.1, 'pm2.5_atm': 3328.1, 'pm2.5_cf_1': 4993.1, 'pm10.0_cf_1': 4993.1, 'score': 0.9333333333333333}\n",
            "{'sensor_index': 137858.0, 'date_created': Timestamp('2021-11-15 22:37:28+0000', tz='UTC'), 'rssi': -94.0, 'uptime': 34.0, 'latitude': 19.48177, 'longitude': -99.09476, 'humidity': 14.0, 'temperature': 88.0, 'pressure': 776.85, 'pm1.0': 3183.2, 'pm2.5_alt': 9.6, 'pm10.0': 3183.2, 'pm1.0_cf_1': 4775.3, 'pm2.5_atm': 3183.2, 'pm2.5_cf_1': 4775.3, 'pm10.0_cf_1': 4775.3, 'score': 0.9333333333333333}\n",
            "{'sensor_index': 137928.0, 'date_created': Timestamp('2021-11-16 21:18:25+0000', tz='UTC'), 'rssi': -96.0, 'uptime': 644.0, 'latitude': 19.4742, 'longitude': -99.2454, 'humidity': 39.0, 'temperature': 62.0, 'pressure': 771.1, 'pm1.0': 3327.1, 'pm2.5_alt': 22.8, 'pm10.0': 3327.1, 'pm1.0_cf_1': 4991.9, 'pm2.5_atm': 3327.1, 'pm2.5_cf_1': 4991.9, 'pm10.0_cf_1': 4991.9, 'score': 0.9333333333333333}\n",
            "{'sensor_index': 137978.0, 'date_created': Timestamp('2021-11-16 21:24:31+0000', tz='UTC'), 'rssi': -47.0, 'uptime': 46196.0, 'latitude': 19.383986, 'longitude': -99.09859, 'humidity': 18.0, 'temperature': 84.0, 'pressure': 777.18, 'pm1.0': 1672.3, 'pm2.5_alt': 15.1, 'pm10.0': 1677.9, 'pm1.0_cf_1': 2507.5, 'pm2.5_atm': 1675.6, 'pm2.5_cf_1': 2511.0, 'pm10.0_cf_1': 2511.5, 'score': 0.9333333333333333}\n",
            "{'sensor_index': 137980.0, 'date_created': Timestamp('2021-11-16 21:24:39+0000', tz='UTC'), 'rssi': -87.0, 'uptime': 16.0, 'latitude': 19.4989, 'longitude': -99.2051, 'humidity': 11.0, 'temperature': 86.0, 'pressure': 771.73, 'pm1.0': 3281.5, 'pm2.5_alt': 5.0, 'pm10.0': 3281.5, 'pm1.0_cf_1': 4923.3, 'pm2.5_atm': 3281.5, 'pm2.5_cf_1': 4923.3, 'pm10.0_cf_1': 4923.3, 'score': 0.9333333333333333}\n",
            "{'sensor_index': 138426.0, 'date_created': Timestamp('2021-11-22 22:24:55+0000', tz='UTC'), 'rssi': -92.0, 'uptime': 528.0, 'latitude': 31.436827, 'longitude': 74.271996, 'humidity': 29.0, 'temperature': 85.0, 'pressure': 987.38, 'pm1.0': 3326.5, 'pm2.5_alt': 1.9, 'pm10.0': 3326.5, 'pm1.0_cf_1': 4990.7, 'pm2.5_atm': 3326.5, 'pm2.5_cf_1': 4990.7, 'pm10.0_cf_1': 4990.7, 'score': 0.84}\n",
            "{'sensor_index': 138448.0, 'date_created': Timestamp('2021-11-22 22:27:01+0000', tz='UTC'), 'rssi': -93.0, 'uptime': 110.0, 'latitude': 14.584993, 'longitude': -90.55482, 'humidity': 61.0, 'temperature': 75.0, 'pressure': 850.86, 'pm1.0': 1679.2, 'pm2.5_alt': 26.8, 'pm10.0': 1697.8, 'pm1.0_cf_1': 2519.6, 'pm2.5_atm': 1692.7, 'pm2.5_cf_1': 2540.2, 'pm10.0_cf_1': 2542.5, 'score': 0.84}\n",
            "{'sensor_index': 139400.0, 'date_created': Timestamp('2021-12-02 22:08:04+0000', tz='UTC'), 'rssi': -88.0, 'uptime': 96.0, 'latitude': 23.796158, 'longitude': 90.400055, 'humidity': 59.0, 'temperature': 86.0, 'pressure': 1010.68, 'pm1.0': 3326.7, 'pm2.5_alt': 44.2, 'pm10.0': 3326.7, 'pm1.0_cf_1': 4991.2, 'pm2.5_atm': 3326.7, 'pm2.5_cf_1': 4991.2, 'pm10.0_cf_1': 4991.2, 'score': 0.928}\n",
            "{'sensor_index': 145524.0, 'date_created': Timestamp('2022-03-22 16:56:56+0000', tz='UTC'), 'rssi': -79.0, 'uptime': 5333.0, 'latitude': 31.96564, 'longitude': -102.76984, 'humidity': 47.6, 'temperature': 137.4, 'pressure': 863.548, 'pm1.0': 3327.8, 'pm2.5_alt': 0.1, 'pm10.0': 3327.8, 'pm1.0_cf_1': 4992.8, 'pm2.5_atm': 3327.8, 'pm2.5_cf_1': 4992.8, 'pm10.0_cf_1': 4992.8, 'score': 0.9333333333333333}\n",
            "{'sensor_index': 146420.0, 'date_created': Timestamp('2022-04-04 19:44:43+0000', tz='UTC'), 'rssi': -68.0, 'uptime': 49.0, 'latitude': 40.372993, 'longitude': -105.22726, 'humidity': 100.0, 'temperature': 368.0, 'pressure': 863.548, 'pm1.0': 3286.1, 'pm2.5_alt': 0.0, 'pm10.0': 3286.1, 'pm1.0_cf_1': 4930.2, 'pm2.5_atm': 3286.1, 'pm2.5_cf_1': 4930.2, 'pm10.0_cf_1': 4930.2, 'score': 0.9306666666666666}\n",
            "{'sensor_index': 146858.0, 'date_created': Timestamp('2022-04-14 16:47:00+0000', tz='UTC'), 'rssi': -70.0, 'uptime': 33934.0, 'latitude': 36.28094, 'longitude': -115.02128, 'humidity': 7.0, 'temperature': 94.0, 'pressure': 944.57, 'pm1.0': 3194.8, 'pm2.5_alt': 0.4, 'pm10.0': 3194.8, 'pm1.0_cf_1': 4792.5, 'pm2.5_atm': 3194.8, 'pm2.5_cf_1': 4792.5, 'pm10.0_cf_1': 4792.5, 'score': 0.9306666666666666}\n",
            "{'sensor_index': 149242.0, 'date_created': Timestamp('2022-06-13 21:34:15+0000', tz='UTC'), 'rssi': -79.0, 'uptime': 23644.0, 'latitude': 49.1751, 'longitude': -123.78923, 'humidity': 42.0, 'temperature': 63.0, 'pressure': 1024.53, 'pm1.0': 3445.3, 'pm2.5_alt': 1.4, 'pm10.0': 3445.3, 'pm1.0_cf_1': 5169.0, 'pm2.5_atm': 3445.3, 'pm2.5_cf_1': 5169.0, 'pm10.0_cf_1': 5169.0, 'score': 0.9333333333333333}\n",
            "{'sensor_index': 161733.0, 'date_created': Timestamp('2022-09-09 16:08:59+0000', tz='UTC'), 'rssi': -64.0, 'uptime': 3229.0, 'latitude': 0.315212, 'longitude': 32.66125, 'humidity': 87.0, 'temperature': 80.0, 'pressure': 751.35, 'pm1.0': 3330.3, 'pm2.5_alt': 6.7, 'pm10.0': 3330.3, 'pm1.0_cf_1': 4995.8, 'pm2.5_atm': 3330.3, 'pm2.5_cf_1': 4995.8, 'pm10.0_cf_1': 4995.8, 'score': 0.9333333333333333}\n",
            "{'sensor_index': 162687.0, 'date_created': Timestamp('2022-09-14 20:15:30+0000', tz='UTC'), 'rssi': -77.0, 'uptime': 57133.0, 'latitude': 43.575428, 'longitude': -110.75518, 'humidity': 30.0, 'temperature': 54.0, 'pressure': 810.47, 'pm1.0': 2368.0, 'pm2.5_alt': 11.6, 'pm10.0': 2370.2, 'pm1.0_cf_1': 3549.9, 'pm2.5_atm': 2369.3, 'pm2.5_cf_1': 3550.0, 'pm10.0_cf_1': 3550.9, 'score': 0.9333333333333333}\n",
            "{'sensor_index': 163333.0, 'date_created': Timestamp('2022-09-16 19:05:10+0000', tz='UTC'), 'rssi': -78.0, 'uptime': 594.0, 'latitude': 35.30553, 'longitude': -120.825424, 'humidity': 32.0, 'temperature': 86.0, 'pressure': 1010.15, 'pm1.0': 4996.3, 'pm2.5_alt': 108.6, 'pm10.0': 4996.3, 'pm1.0_cf_1': 4996.3, 'pm2.5_atm': 3330.3, 'pm2.5_cf_1': 4996.3, 'pm10.0_cf_1': 4996.3, 'score': 0.9306666666666666}\n",
            "{'sensor_index': 165995.0, 'date_created': Timestamp('2022-10-06 18:18:54+0000', tz='UTC'), 'rssi': -68.0, 'uptime': 61039.0, 'latitude': 40.443817, 'longitude': -79.9394, 'humidity': 39.0, 'temperature': 82.0, 'pressure': 981.13, 'pm1.0': 1707.8, 'pm2.5_alt': 572.6, 'pm10.0': 2606.5, 'pm1.0_cf_1': 2562.5, 'pm2.5_atm': 2158.9, 'pm2.5_cf_1': 3239.2, 'pm10.0_cf_1': 3910.6, 'score': 0.9333333333333333}\n",
            "{'sensor_index': 167251.0, 'date_created': Timestamp('2022-10-14 21:58:16+0000', tz='UTC'), 'rssi': -56.0, 'uptime': 12728.0, 'latitude': 24.702744, 'longitude': 46.71336, 'humidity': 38.0, 'temperature': 85.0, 'pressure': 941.23, 'pm1.0': 3330.8, 'pm2.5_alt': 9.0, 'pm10.0': 3330.8, 'pm1.0_cf_1': 4997.0, 'pm2.5_atm': 3330.8, 'pm2.5_cf_1': 4997.0, 'pm10.0_cf_1': 4997.0, 'score': 0.9333333333333333}\n",
            "{'sensor_index': 168105.0, 'date_created': Timestamp('2022-10-21 16:46:40+0000', tz='UTC'), 'rssi': -62.0, 'uptime': 387.0, 'latitude': 39.14861, 'longitude': -119.70875, 'humidity': 13.0, 'temperature': 86.0, 'pressure': 862.06, 'pm1.0': 3334.8, 'pm2.5_alt': 0.4, 'pm10.0': 3334.8, 'pm1.0_cf_1': 5002.9, 'pm2.5_atm': 3334.8, 'pm2.5_cf_1': 5002.9, 'pm10.0_cf_1': 5002.9, 'score': 0.9333333333333333}\n",
            "{'sensor_index': 168411.0, 'date_created': Timestamp('2022-10-24 21:13:15+0000', tz='UTC'), 'rssi': -16.0, 'uptime': 48506.0, 'latitude': 42.349297, 'longitude': -71.13975, 'humidity': 33.0, 'temperature': 84.0, 'pressure': 1015.93, 'pm1.0': 2526.4, 'pm2.5_alt': 55.1, 'pm10.0': 2573.1, 'pm1.0_cf_1': 2526.4, 'pm2.5_atm': 1698.0, 'pm2.5_cf_1': 2547.9, 'pm10.0_cf_1': 2573.1, 'score': 0.9306666666666666}\n",
            "{'sensor_index': 168429.0, 'date_created': Timestamp('2022-10-25 14:52:12+0000', tz='UTC'), 'rssi': -70.0, 'uptime': 13993.0, 'latitude': 42.340546, 'longitude': 78.003075, 'humidity': 43.0, 'temperature': 47.0, 'pressure': 824.9, 'pm1.0': 3990.9, 'pm2.5_alt': 13.6, 'pm10.0': 3990.9, 'pm1.0_cf_1': 5987.3, 'pm2.5_atm': 3990.9, 'pm2.5_cf_1': 5987.3, 'pm10.0_cf_1': 5987.3, 'score': 0.9306666666666666}\n",
            "{'sensor_index': 168495.0, 'date_created': Timestamp('2022-10-25 21:20:21+0000', tz='UTC'), 'rssi': -58.0, 'uptime': 916.0, 'latitude': 43.75045, 'longitude': -122.48114, 'humidity': 26.0, 'temperature': 83.0, 'pressure': 979.32, 'pm1.0': 4996.3, 'pm2.5_alt': 30.7, 'pm10.0': 4996.3, 'pm1.0_cf_1': 4996.3, 'pm2.5_atm': 3330.3, 'pm2.5_cf_1': 4996.3, 'pm10.0_cf_1': 4996.3, 'score': 0.9306666666666666}\n",
            "{'sensor_index': 168561.0, 'date_created': Timestamp('2022-10-26 14:47:14+0000', tz='UTC'), 'rssi': -54.0, 'uptime': 12396.0, 'latitude': 43.747643, 'longitude': -122.453445, 'humidity': 29.0, 'temperature': 80.0, 'pressure': 977.76, 'pm1.0': 5000.6, 'pm2.5_alt': 0.1, 'pm10.0': 5000.6, 'pm1.0_cf_1': 5000.6, 'pm2.5_atm': 3333.3, 'pm2.5_cf_1': 5000.6, 'pm10.0_cf_1': 5000.6, 'score': 0.9306666666666666}\n",
            "{'sensor_index': 170015.0, 'date_created': Timestamp('2022-11-09 17:55:50+0000', tz='UTC'), 'rssi': -60.0, 'uptime': 10674.0, 'latitude': 27.613123, 'longitude': 84.31394, 'humidity': 50.0, 'temperature': 76.0, 'pressure': 990.72, 'pm1.0': 3331.7, 'pm2.5_alt': 554.7, 'pm10.0': 3331.7, 'pm1.0_cf_1': 4998.3, 'pm2.5_atm': 3331.7, 'pm2.5_cf_1': 4998.3, 'pm10.0_cf_1': 4998.3, 'score': 0.9333333333333333}\n",
            "{'sensor_index': 171175.0, 'date_created': Timestamp('2022-11-21 20:03:04+0000', tz='UTC'), 'rssi': -70.0, 'uptime': 68338.0, 'latitude': 25.125963, 'longitude': 55.39203, 'humidity': 42.0, 'temperature': 84.0, 'pressure': 1003.03, 'pm1.0': 3329.7, 'pm2.5_alt': 18.5, 'pm10.0': 3329.7, 'pm1.0_cf_1': 4995.2, 'pm2.5_atm': 3329.7, 'pm2.5_cf_1': 4995.2, 'pm10.0_cf_1': 4995.2, 'score': 0.9333333333333333}\n",
            "{'sensor_index': 172177.0, 'date_created': Timestamp('2022-11-29 19:35:19+0000', tz='UTC'), 'rssi': -21.0, 'uptime': 970.0, 'latitude': 4.02821, 'longitude': 9.68977, 'humidity': 80.0, 'temperature': 87.0, 'pressure': 1007.86, 'pm1.0': 3333.0, 'pm2.5_alt': 43.5, 'pm10.0': 3333.0, 'pm1.0_cf_1': 4999.9, 'pm2.5_atm': 3333.0, 'pm2.5_cf_1': 4999.9, 'pm10.0_cf_1': 4999.9, 'score': 0.9333333333333333}\n",
            "{'sensor_index': 174797.0, 'date_created': Timestamp('2023-02-16 19:31:17+0000', tz='UTC'), 'rssi': -55.0, 'uptime': 15895.0, 'latitude': 47.59149, 'longitude': -122.30294, 'humidity': 23.0, 'temperature': 89.0, 'pressure': 1018.26, 'pm1.0': 2561.2, 'pm2.5_alt': 105.4, 'pm10.0': 2597.4, 'pm1.0_cf_1': 2561.2, 'pm2.5_atm': 1725.3, 'pm2.5_cf_1': 2588.7, 'pm10.0_cf_1': 2597.4, 'score': 0.9333333333333333}\n",
            "{'sensor_index': 175741.0, 'date_created': Timestamp('2023-03-06 21:19:47+0000', tz='UTC'), 'rssi': -52.0, 'uptime': 285.0, 'latitude': 43.78378, 'longitude': 59.030807, 'humidity': 38.0, 'temperature': 65.0, 'pressure': 999.41, 'pm1.0': 3332.2, 'pm2.5_alt': 3.6, 'pm10.0': 3332.2, 'pm1.0_cf_1': 4998.8, 'pm2.5_atm': 3332.2, 'pm2.5_cf_1': 4998.8, 'pm10.0_cf_1': 4998.8, 'score': 0.9333333333333333}\n",
            "{'sensor_index': 175775.0, 'date_created': Timestamp('2023-03-06 21:26:57+0000', tz='UTC'), 'rssi': -74.0, 'uptime': 51119.0, 'latitude': 42.466427, 'longitude': 59.61541, 'humidity': 41.0, 'temperature': 61.0, 'pressure': 1007.81, 'pm1.0': 3330.2, 'pm2.5_alt': 3.1, 'pm10.0': 3330.2, 'pm1.0_cf_1': 4995.8, 'pm2.5_atm': 3330.2, 'pm2.5_cf_1': 4995.8, 'pm10.0_cf_1': 4995.8, 'score': 0.9333333333333333}\n",
            "{'sensor_index': 177293.0, 'date_created': Timestamp('2023-03-22 21:19:34+0000', tz='UTC'), 'rssi': -82.0, 'uptime': 1214.0, 'latitude': 27.848513, 'longitude': 82.69894, 'humidity': 46.0, 'temperature': 76.0, 'pressure': 978.88, 'pm1.0': 657.6, 'pm2.5_alt': 199.9, 'pm10.0': 726.9, 'pm1.0_cf_1': 987.4, 'pm2.5_atm': 710.1, 'pm2.5_cf_1': 1066.2, 'pm10.0_cf_1': 1091.5, 'score': 0.9333333333333333}\n",
            "{'sensor_index': 181875.0, 'date_created': Timestamp('2023-05-22 20:39:54+0000', tz='UTC'), 'rssi': -70.0, 'uptime': 64366.0, 'latitude': 33.67211, 'longitude': -116.31933, 'humidity': 5.0, 'temperature': 96.0, 'pressure': 1010.58, 'pm1.0': 3331.0, 'pm2.5_alt': 0.0, 'pm10.0': 3331.0, 'pm1.0_cf_1': 4997.0, 'pm2.5_atm': 3331.0, 'pm2.5_cf_1': 4997.0, 'pm10.0_cf_1': 4997.0, 'score': 0.9333333333333333}\n",
            "{'sensor_index': 186927.0, 'date_created': Timestamp('2023-07-06 17:38:59+0000', tz='UTC'), 'rssi': -39.0, 'uptime': 40821.0, 'latitude': 52.709667, 'longitude': -76.09562, 'humidity': 66.0, 'temperature': 52.0, 'pressure': 1030.72, 'pm1.0': 5114.7, 'pm2.5_alt': 6.5, 'pm10.0': 5114.7, 'pm1.0_cf_1': 5114.7, 'pm2.5_atm': 3409.2, 'pm2.5_cf_1': 5114.7, 'pm10.0_cf_1': 5114.7, 'score': 0.9333333333333333}\n",
            "{'sensor_index': 189319.0, 'date_created': Timestamp('2023-07-21 23:29:20+0000', tz='UTC'), 'rssi': -84.0, 'uptime': 65247.0, 'latitude': 32.757313, 'longitude': -80.05793, 'humidity': 59.0, 'temperature': 75.0, 'pressure': 1016.57, 'pm1.0': 3333.2, 'pm2.5_alt': 0.0, 'pm10.0': 3333.2, 'pm1.0_cf_1': 5000.4, 'pm2.5_atm': 3333.2, 'pm2.5_cf_1': 5000.4, 'pm10.0_cf_1': 5000.4, 'score': 0.9333333333333333}\n",
            "{'sensor_index': 192655.0, 'date_created': Timestamp('2023-08-17 17:09:29+0000', tz='UTC'), 'rssi': -68.0, 'uptime': 1648.0, 'latitude': 37.799473, 'longitude': -122.190994, 'humidity': 39.0, 'temperature': 73.0, 'pressure': 1006.88, 'pm1.0': 3333.5, 'pm2.5_alt': 0.1, 'pm10.0': 3333.5, 'pm1.0_cf_1': 5000.9, 'pm2.5_atm': 3333.5, 'pm2.5_cf_1': 5000.9, 'pm10.0_cf_1': 5000.9, 'score': 0.9333333333333333}\n",
            "{'sensor_index': 198919.0, 'date_created': Timestamp('2023-10-12 21:59:47+0000', tz='UTC'), 'rssi': -87.0, 'uptime': 32280.0, 'latitude': 52.703712, 'longitude': -76.06778, 'humidity': 54.0, 'temperature': 61.0, 'pressure': 1126.52, 'pm1.0': 5089.9, 'pm2.5_alt': 27.1, 'pm10.0': 5089.9, 'pm1.0_cf_1': 5089.9, 'pm2.5_atm': 3392.7, 'pm2.5_cf_1': 5089.9, 'pm10.0_cf_1': 5089.9, 'score': 0.9333333333333333}\n"
          ]
        }
      ]
    },
    {
      "cell_type": "code",
      "source": [],
      "metadata": {
        "id": "Ah9GxC1dobo6"
      },
      "execution_count": null,
      "outputs": []
    }
  ]
}